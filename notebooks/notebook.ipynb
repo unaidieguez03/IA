{
 "cells": [
  {
   "cell_type": "markdown",
   "metadata": {},
   "source": [
    "# SPINE PROBLEMS"
   ]
  },
  {
   "cell_type": "markdown",
   "metadata": {},
   "source": [
    "## 0 IMPORT LIBRARIES"
   ]
  },
  {
   "cell_type": "code",
   "execution_count": 38,
   "metadata": {},
   "outputs": [],
   "source": [
    "import polars as pl\n",
    "import os\n",
    "import torch\n",
    "import torch.nn as nn\n",
    "from dataclasses import dataclass\n",
    "from typing import Literal\n",
    "import optuna\n",
    "from optuna import Study, Trial\n",
    "import optuna.pruners as pruners\n",
    "import optuna.samplers as samplers\n",
    "import optuna.storages as storages\n",
    "from pathlib import Path\n"
   ]
  },
  {
   "cell_type": "markdown",
   "metadata": {},
   "source": [
    "### 0.1 Set Device"
   ]
  },
  {
   "cell_type": "code",
   "execution_count": null,
   "metadata": {},
   "outputs": [],
   "source": [
    "if torch.cuda.is_available():\n",
    "    device = torch.device('cuda:0')\n",
    "    print('Running on the GPU')\n",
    "    torch.cuda.empty_cache()\n",
    "else:\n",
    "    device = torch.device('cpu')\n",
    "    print('Running on the CPU')"
   ]
  },
  {
   "cell_type": "markdown",
   "metadata": {},
   "source": [
    "### 1 GLOBAL SEATINGS"
   ]
  },
  {
   "cell_type": "code",
   "execution_count": 40,
   "metadata": {},
   "outputs": [],
   "source": [
    "WORKDIR_PATH = \"\" # \"../\"\n",
    "IMAGE_DIM = 256\n",
    "NO_CACHE = True\n",
    "CACHE_DIR = WORKDIR_PATH + \".cache/\"\n",
    "DATASET_DIR = WORKDIR_PATH + \"dataset/\"\n",
    "ANOTTATIONS_DIR = DATASET_DIR + \"annotations/\"\n",
    "TRAIN_DIR = os.path.join(DATASET_DIR, \"train_images/\")\n",
    "LOAD_SESSION = False\n",
    "REDUCTION_PERCENTAGE = 0.2\n",
    "AUGMENTATION_PERCENTAGE = 0.5\n",
    "RESOURCES = \"resources/\""
   ]
  },
  {
   "cell_type": "markdown",
   "metadata": {},
   "source": [
    "## 2 Preprocessing"
   ]
  },
  {
   "cell_type": "markdown",
   "metadata": {},
   "source": [
    "### 2.2 Load Dataset"
   ]
  },
  {
   "cell_type": "code",
   "execution_count": null,
   "metadata": {},
   "outputs": [],
   "source": [
    "from utils import visualice, process_data\n",
    "\n",
    "lazy_dataset = any\n",
    "if os.path.exists(CACHE_DIR + \"preprocesed_dataset.parquet\"):\n",
    "    print(\"cache\")\n",
    "    lazy_dataset = pl.scan_parquet(CACHE_DIR + 'preprocesed_dataset.parquet')\n",
    "    LENGTH = lazy_dataset.select(pl.len()).collect().item()\n",
    "    NO_CACHE = False\n",
    "else:\n",
    "    print(\"from zero\")\n",
    "    lazy_dataset = pl.scan_csv(ANOTTATIONS_DIR + 'train.csv')\n",
    "    # lazy_dataset = pl.scan_csv(ANOTTATIONS_DIR + 'p.csv')\n",
    "    LENGTH = lazy_dataset.select(pl.len()).collect().item()\n",
    "LENGTH = lazy_dataset.select(pl.len()).collect().item()\n",
    "print(LENGTH)"
   ]
  },
  {
   "cell_type": "code",
   "execution_count": 42,
   "metadata": {},
   "outputs": [],
   "source": [
    "if NO_CACHE:\n",
    "    lesionTypes = lazy_dataset.select([\"lesion_type\"]).collect().unique().to_series().to_list()\n",
    "    num_class = len(lesionTypes)\n",
    "    print(lesionTypes)"
   ]
  },
  {
   "cell_type": "markdown",
   "metadata": {},
   "source": [
    "### 2.3 Filter dataset "
   ]
  },
  {
   "cell_type": "code",
   "execution_count": 43,
   "metadata": {},
   "outputs": [],
   "source": [
    "if NO_CACHE:\n",
    "    lazy_dataset = (\n",
    "        lazy_dataset\n",
    "        .select(['image_id', 'lesion_type'])\n",
    "    )"
   ]
  },
  {
   "cell_type": "code",
   "execution_count": 44,
   "metadata": {},
   "outputs": [],
   "source": [
    "import matplotlib.pyplot as plt\n",
    "if NO_CACHE:\n",
    "    label_counts_pd = (\n",
    "            lazy_dataset.\n",
    "            group_by('lesion_type').agg(\n",
    "        pl.count('image_id').alias('count')\n",
    "        )\n",
    "    )\n",
    "    # Convert to pandas for easier plotting\n",
    "    label_counts = label_counts_pd.collect()\n",
    "    # Extract data for plotting\n",
    "    labels = label_counts['lesion_type'].to_list()\n",
    "    counts = label_counts['count'].to_list()\n",
    "\n",
    "    # Plot using Matplotlib\n",
    "    plt.figure(figsize=(10, 6))\n",
    "    plt.bar(labels, counts, color='skyblue')\n",
    "    plt.xlabel('Lesions')\n",
    "    plt.ylabel('Count')\n",
    "    plt.title('Distribution of Lesions in the Dataset')\n",
    "    plt.xticks(rotation=45)\n",
    "    plt.tight_layout()\n",
    "    plt.show()"
   ]
  },
  {
   "cell_type": "markdown",
   "metadata": {},
   "source": [
    "as we can see, the dataset is too invalanced. Our aprouch in this case is going to be the next one:\n",
    "    1. Take the No finding and Osteophytes classes, they are the 2 most common classes\n",
    "    2. Filter for duplicate values inside those two classes. Doing this we are only taking the images that have Osteophytes OR No finding\n",
    "    3. See if the data is invalanced\n",
    "    3. When we have the same amount of data for each values"
   ]
  },
  {
   "cell_type": "code",
   "execution_count": 45,
   "metadata": {},
   "outputs": [],
   "source": [
    "if NO_CACHE:\n",
    "    for lesions in lesionTypes:\n",
    "        if lesions == \"No finding\":\n",
    "            lazy_frame_to_augment = ((\n",
    "                lazy_dataset\n",
    "                .filter((pl.col(\"lesion_type\") == lesions))\n",
    "            ))\n",
    "    for lesions in lesionTypes:\n",
    "        if lesions == \"Osteophytes\":\n",
    "            lazy_frame_to_maintein = ((\n",
    "                lazy_dataset\n",
    "                .filter((pl.col(\"lesion_type\") == lesions))\n",
    "            ))"
   ]
  },
  {
   "cell_type": "code",
   "execution_count": 46,
   "metadata": {},
   "outputs": [],
   "source": [
    "if NO_CACHE:\n",
    "    print(lazy_frame_to_augment.select(pl.len()).collect().item())\n",
    "    print(lazy_frame_to_maintein.select(pl.len()).collect().item())\n",
    "    visualice.visualice_lazyframe(lazy_frame_to_augment)\n"
   ]
  },
  {
   "cell_type": "code",
   "execution_count": 47,
   "metadata": {},
   "outputs": [],
   "source": [
    "if NO_CACHE:\n",
    "    label_counts_pd = (\n",
    "            pl.concat([lazy_frame_to_augment, lazy_frame_to_maintein]).\n",
    "            group_by('lesion_type').agg(\n",
    "        pl.count('image_id').alias('count')\n",
    "        )\n",
    "    )\n",
    "    # Convert to pandas for easier plotting\n",
    "    label_counts = label_counts_pd.collect()\n",
    "    # Extract data for plotting\n",
    "    labels = label_counts['lesion_type'].to_list()\n",
    "    counts = label_counts['count'].to_list()\n",
    "\n",
    "    # Plot using Matplotlib\n",
    "    plt.figure(figsize=(10, 6))\n",
    "    plt.bar(labels, counts, color='skyblue')\n",
    "    plt.xlabel('Lesions')\n",
    "    plt.ylabel('Count')\n",
    "    plt.title('Distribution of Lesions in the Dataset')\n",
    "    plt.xticks(rotation=45)\n",
    "    plt.tight_layout()\n",
    "    plt.show()"
   ]
  },
  {
   "cell_type": "code",
   "execution_count": 48,
   "metadata": {},
   "outputs": [],
   "source": [
    "if NO_CACHE:\n",
    "    lazy_frame_to_augment = (\n",
    "        lazy_frame_to_augment.group_by(\"image_id\").agg(\n",
    "        pl.col(\"lesion_type\"))\n",
    "    )\n",
    "    lazy_frame_to_maintein = (\n",
    "        lazy_frame_to_maintein.group_by(\"image_id\").agg(\n",
    "        pl.col(\"lesion_type\"))\n",
    "    )\n",
    "    print(lazy_frame_to_maintein.select(pl.len()).collect().item())\n",
    "    print(lazy_frame_to_augment.select(pl.len()).collect().item())"
   ]
  },
  {
   "cell_type": "code",
   "execution_count": 49,
   "metadata": {},
   "outputs": [],
   "source": [
    "if NO_CACHE:\n",
    "    lazy_frame_to_augment = (\n",
    "        lazy_frame_to_augment\n",
    "        .with_columns((pl.lit(TRAIN_DIR) + (pl.col(\"image_id\")+pl.lit('.dicom'))).alias(\"image_path\"))\n",
    "        .drop('image_id')\n",
    "    )\n",
    "    lazy_frame_to_maintein = (\n",
    "        lazy_frame_to_maintein\n",
    "        .with_columns((pl.lit(TRAIN_DIR) + (pl.col(\"image_id\")+pl.lit('.dicom'))).alias(\"image_path\"))\n",
    "        .drop('image_id')\n",
    "    )"
   ]
  },
  {
   "cell_type": "markdown",
   "metadata": {},
   "source": [
    "## 2. Data Aumentation"
   ]
  },
  {
   "cell_type": "code",
   "execution_count": 50,
   "metadata": {},
   "outputs": [],
   "source": [
    "if NO_CACHE:\n",
    "    lazy_frame_to_maintein = (lazy_frame_to_maintein\n",
    "            .with_columns([\n",
    "                pl.col('lesion_type')\n",
    "                .list.unique()  # Remove duplicates within each list\n",
    "                .alias('lesion_labels')\n",
    "            ]).drop(\"lesion_type\"))\n",
    "    lazy_frame_to_augment = (lazy_frame_to_augment\n",
    "            .with_columns([\n",
    "                pl.col('lesion_type')\n",
    "                .list.unique()  # Remove duplicates within each list\n",
    "                .alias('lesion_labels')\n",
    "            ]).drop(\"lesion_type\"))\n",
    "    visualice.visualice_lazyframe(lazy_frame_to_maintein)"
   ]
  },
  {
   "cell_type": "code",
   "execution_count": 51,
   "metadata": {},
   "outputs": [],
   "source": [
    "if NO_CACHE:\n",
    "    lazy_frame_to_maintein = (\n",
    "        lazy_frame_to_maintein.with_columns(\n",
    "            pl.format(\"{}\",\n",
    "            pl.col(\"lesion_labels\").cast(pl.List(pl.String)).list.join(\"\").alias(\"lesion\"))\n",
    "        ).drop(\"lesion_labels\")\n",
    "    )\n",
    "    lazy_frame_to_augment = (\n",
    "        lazy_frame_to_augment.with_columns(\n",
    "            pl.format(\"{}\",\n",
    "            pl.col(\"lesion_labels\").cast(pl.List(pl.String)).list.join(\"\").alias(\"lesion\"))\n",
    "        ).drop(\"lesion_labels\")\n",
    "    )"
   ]
  },
  {
   "cell_type": "code",
   "execution_count": 52,
   "metadata": {},
   "outputs": [],
   "source": [
    "if NO_CACHE:\n",
    "    label_counts_pd = (\n",
    "            pl.concat([lazy_frame_to_augment, lazy_frame_to_maintein]).\n",
    "            group_by('lesion').agg(\n",
    "        pl.count('image_path').alias('count')\n",
    "        )\n",
    "    )\n",
    "    # Convert to pandas for easier plotting\n",
    "    label_counts = label_counts_pd.collect()\n",
    "    # Extract data for plotting\n",
    "    labels = label_counts['lesion'].to_list()\n",
    "    counts = label_counts['count'].to_list()\n",
    "\n",
    "    # Plot using Matplotlib\n",
    "    plt.figure(figsize=(10, 6))\n",
    "    plt.bar(labels, counts, color='skyblue')\n",
    "    plt.xlabel('Lesions')\n",
    "    plt.ylabel('Count')\n",
    "    plt.title('Distribution of Lesions in the Dataset')\n",
    "    plt.xticks(rotation=45)\n",
    "    plt.tight_layout()\n",
    "    plt.show()"
   ]
  },
  {
   "cell_type": "markdown",
   "metadata": {},
   "source": [
    "after removing duplicates, we can see that the dataset is more balanced than before"
   ]
  },
  {
   "cell_type": "code",
   "execution_count": 53,
   "metadata": {},
   "outputs": [],
   "source": [
    "if NO_CACHE:\n",
    "    lazy_dataset = pl.concat([lazy_frame_to_augment, lazy_frame_to_maintein])"
   ]
  },
  {
   "cell_type": "markdown",
   "metadata": {},
   "source": [
    "### AUMENTATION"
   ]
  },
  {
   "cell_type": "code",
   "execution_count": 54,
   "metadata": {},
   "outputs": [],
   "source": [
    "if NO_CACHE:\n",
    "    lazy_frames_aumented =[]\n",
    "    lenth = int(lazy_dataset.select(pl.len()).collect().item()*AUGMENTATION_PERCENTAGE)\n",
    "    lazy_frames_aumented.append(lazy_dataset)\n",
    "    lazy_frames_aumented.append(\n",
    "                    lazy_dataset.select(\n",
    "                        pl.all().sample(n=lenth, shuffle=True)\n",
    "                    )\n",
    "            )"
   ]
  },
  {
   "cell_type": "code",
   "execution_count": 55,
   "metadata": {},
   "outputs": [],
   "source": [
    "if NO_CACHE:\n",
    "    NORMAL_LENGTH = lazy_frames_aumented[0].select(pl.len()).collect().item()\n",
    "    AUGMENTED_LENGTH = lazy_frames_aumented[1].select(pl.len()).collect().item()\n",
    "    print(f\"Dataset: {NORMAL_LENGTH}\")\n",
    "    print(f\"Augmented Dataset: {AUGMENTED_LENGTH}\")"
   ]
  },
  {
   "cell_type": "code",
   "execution_count": 56,
   "metadata": {},
   "outputs": [],
   "source": [
    "if NO_CACHE:\n",
    "    label_counts_pd = (\n",
    "            pl.concat(lazy_frames_aumented).\n",
    "            group_by('lesion').agg(\n",
    "        pl.count('image_path').alias('count')\n",
    "        )\n",
    "    )\n",
    "    # Convert to pandas for easier plotting\n",
    "    label_counts = label_counts_pd.collect()\n",
    "    # Extract data for plotting\n",
    "    labels = label_counts['lesion'].to_list()\n",
    "    counts = label_counts['count'].to_list()\n",
    "\n",
    "    # Plot using Matplotlib\n",
    "    plt.figure(figsize=(10, 6))\n",
    "    plt.bar(labels, counts, color='skyblue')\n",
    "    plt.xlabel('Lesions')\n",
    "    plt.ylabel('Count')\n",
    "    plt.title('Distribution of Lesions in the Dataset')\n",
    "    plt.xticks(rotation=45)\n",
    "    plt.tight_layout()\n",
    "    plt.show()"
   ]
  },
  {
   "cell_type": "code",
   "execution_count": 57,
   "metadata": {},
   "outputs": [],
   "source": [
    "from utils import load_image, create_parquet\n",
    "\n",
    "if NO_CACHE:\n",
    "    lazy_frames_aumented[0] = (lazy_frames_aumented[0]\n",
    "                    .with_columns(\n",
    "                        pl.col(\"image_path\")\n",
    "                        .map_elements(\n",
    "                            function=process_data.preprocess,\n",
    "                            return_dtype=pl.List(pl.List(pl.Float32))\n",
    "                            )\n",
    "                        .alias(\"loaded_image\")\n",
    "                    )\n",
    "                    .drop(\"image_path\")\n",
    "            )\n",
    "    lazy_frames_aumented[1] = (lazy_frames_aumented[1]\n",
    "                    .with_columns(\n",
    "                        pl.col(\"image_path\")\n",
    "                        .map_elements(\n",
    "                            function=process_data.preprocess_and_augment,\n",
    "                            return_dtype=pl.List(pl.List(pl.Float32))\n",
    "                            )\n",
    "                        .alias(\"loaded_image\")\n",
    "                    )\n",
    "                    .drop(\"image_path\")\n",
    "            )"
   ]
  },
  {
   "cell_type": "code",
   "execution_count": 58,
   "metadata": {},
   "outputs": [],
   "source": [
    "if NO_CACHE:\n",
    "    create_parquet.process_lazy_images(lazy_frames_aumented[0],total_rows=NORMAL_LENGTH, chunk_size=50, output_path=CACHE_DIR, name=\"data.parquet\")"
   ]
  },
  {
   "cell_type": "code",
   "execution_count": 59,
   "metadata": {},
   "outputs": [],
   "source": [
    "if NO_CACHE:\n",
    "    create_parquet.process_lazy_images(lazy_frames_aumented[1],total_rows=AUGMENTED_LENGTH, chunk_size=50, output_path=CACHE_DIR, name=\"augmented.parquet\")"
   ]
  },
  {
   "cell_type": "code",
   "execution_count": 60,
   "metadata": {},
   "outputs": [],
   "source": [
    "if NO_CACHE:\n",
    "    combined_lf = pl.scan_parquet([os.path.join(CACHE_DIR,f\"data.parquet\"), os.path.join(CACHE_DIR,f\"augmented.parquet\")])\n",
    "\n",
    "    combined_lf.sink_parquet(\n",
    "        os.path.join(CACHE_DIR, \"preprocesed_dataset.parquet\"),\n",
    "        compression=\"snappy\",\n",
    "        compression_level=22,\n",
    "    )"
   ]
  },
  {
   "cell_type": "code",
   "execution_count": 61,
   "metadata": {},
   "outputs": [],
   "source": [
    "if NO_CACHE:\n",
    "    os.remove(os.path.join(CACHE_DIR,f\"data.parquet\"))\n",
    "    os.remove(os.path.join(CACHE_DIR,f\"augmented.parquet\"))\n",
    "    lazy_dataset = pl.scan_parquet([os.path.join(CACHE_DIR,f\"preprocesed_dataset.parquet\")])\n"
   ]
  },
  {
   "cell_type": "code",
   "execution_count": null,
   "metadata": {},
   "outputs": [],
   "source": [
    "LENGTH = lazy_dataset.select(pl.len()).collect().item()\n",
    "print(lazy_dataset.select(pl.len()).collect().item())\n",
    "visualice.visualice_lazyframe(lazy_dataset)"
   ]
  },
  {
   "cell_type": "code",
   "execution_count": null,
   "metadata": {},
   "outputs": [],
   "source": [
    "lesionTypes = lazy_dataset.select([\"lesion\"]).collect().unique().to_series().to_list()\n",
    "num_class = len(lesionTypes)\n",
    "print(lesionTypes)"
   ]
  },
  {
   "cell_type": "code",
   "execution_count": null,
   "metadata": {},
   "outputs": [],
   "source": [
    "from utils.training import trainerClass, dataloader\n",
    "\n",
    "train_dataset, test_dataset = torch.utils.data.random_split(dataloader.LazyFrameDataset(lazy_frame=lazy_dataset, dataset_length=LENGTH), [0.8, 0.2])\n",
    "print(len(test_dataset))"
   ]
  },
  {
   "cell_type": "markdown",
   "metadata": {},
   "source": [
    "### 2.8 Split the dataset"
   ]
  },
  {
   "cell_type": "markdown",
   "metadata": {},
   "source": [
    "## 3 AUTOENCODER"
   ]
  },
  {
   "cell_type": "markdown",
   "metadata": {},
   "source": [
    "### 3.1 Covolutional Block"
   ]
  },
  {
   "cell_type": "code",
   "execution_count": 65,
   "metadata": {},
   "outputs": [],
   "source": [
    "class ConvolutionBlock(nn.Module):\n",
    "    def __init__(self, in_channels, out_channels, dropout_rate:float, kernel_size:int, activation):\n",
    "        super().__init__()\n",
    "        padding = kernel_size // 2\n",
    "        self.block = nn.Sequential(\n",
    "            nn.Conv2d(in_channels, out_channels, kernel_size=kernel_size, padding=padding),\n",
    "            nn.BatchNorm2d(out_channels),\n",
    "            activation,\n",
    "            nn.Conv2d(out_channels, out_channels, kernel_size=kernel_size, padding=padding),\n",
    "            nn.BatchNorm2d(out_channels),\n",
    "            activation,\n",
    "            nn.Dropout2d(dropout_rate)\n",
    "        )\n",
    "    def forward(self, x):\n",
    "        return self.block(x)"
   ]
  },
  {
   "cell_type": "markdown",
   "metadata": {},
   "source": [
    "### 3.2 Encoder"
   ]
  },
  {
   "cell_type": "code",
   "execution_count": 66,
   "metadata": {},
   "outputs": [],
   "source": [
    "class Encoder(nn.Module):\n",
    "    def __init__(self, in_channels:int=1, base_filters:int=64):\n",
    "        super().__init__()\n",
    "\n",
    "        self.in_channels = in_channels\n",
    "        self.base_filters = base_filters\n",
    "\n",
    "        self.pool = nn.MaxPool2d((2, 2))\n",
    "\n",
    "        self.level1 = ConvolutionBlock(self.in_channels, self.base_filters,dropout_rate=0.2, kernel_size=3, activation=nn.ReLU())\n",
    "        self.level2 = ConvolutionBlock(self.base_filters, self.base_filters * 2,dropout_rate=0.2, kernel_size=3, activation=nn.ReLU())\n",
    "        self.level3 = ConvolutionBlock(self.base_filters * 2, self.base_filters * 4,dropout_rate=0.2, kernel_size=3, activation=nn.ReLU())\n",
    "        \n",
    "        self.bottleneck = ConvolutionBlock(self.base_filters * 4, self.base_filters * 8,dropout_rate=0.2, kernel_size=3, activation=nn.ReLU())\n",
    "    def forward(self, x):\n",
    "\n",
    "        skip_connections = []\n",
    "\n",
    "        level1_features = self.level1(x)\n",
    "        skip_connections.append(level1_features)\n",
    "        level1_pooled = self.pool(level1_features)\n",
    "\n",
    "        level2_features = self.level2(level1_pooled)\n",
    "        skip_connections.append(level2_features)\n",
    "        level2_pooled = self.pool(level2_features)\n",
    "\n",
    "        level3_features = self.level3(level2_pooled)\n",
    "        skip_connections.append(level3_features)\n",
    "        level3_pooled = self.pool(level3_features)\n",
    "\n",
    "        bottleneck_features = self.bottleneck(level3_pooled)\n",
    "        return {\n",
    "            'encoded_image': bottleneck_features,\n",
    "            'skip_connections': skip_connections\n",
    "        }"
   ]
  },
  {
   "cell_type": "markdown",
   "metadata": {},
   "source": [
    "### 3.3 Decoder\n"
   ]
  },
  {
   "cell_type": "code",
   "execution_count": 67,
   "metadata": {},
   "outputs": [],
   "source": [
    "class Decoder(nn.Module):\n",
    "    def __init__(self, in_channels:int=1, base_filters:int=64):\n",
    "        super().__init__()\n",
    "        \n",
    "        self.in_channels = in_channels\n",
    "        self.base_filters = base_filters * 8\n",
    "        \n",
    "        self.upconv1 = nn.ConvTranspose2d(self.base_filters//1, self.base_filters // 2, kernel_size=2, stride=2)\n",
    "        self.upconv2 = nn.ConvTranspose2d(self.base_filters // 2, self.base_filters // 4, kernel_size=2, stride=2)\n",
    "        self.upconv3 = nn.ConvTranspose2d(self.base_filters // 4, self.base_filters // 8, kernel_size=2, stride=2)\n",
    "        \n",
    "        self.conv1 = ConvolutionBlock(self.base_filters, self.base_filters // 2, dropout_rate=0.2, kernel_size=3, activation=nn.ReLU())\n",
    "        self.conv2 = ConvolutionBlock(self.base_filters // 2, self.base_filters // 4, dropout_rate=0.2, kernel_size=3, activation=nn.ReLU())\n",
    "        self.conv3 = ConvolutionBlock(self.base_filters // 4, self.base_filters // 8, dropout_rate=0.2, kernel_size=3, activation=nn.ReLU())\n",
    "        self.output_conv = nn.Conv2d(self.base_filters // 8, in_channels, kernel_size=1)\n",
    "        \n",
    "    def forward(self, encoder_output):\n",
    "\n",
    "        features = encoder_output['encoded_image']\n",
    "        skip_connections = encoder_output['skip_connections']\n",
    "        up1 = self.upconv1(features)\n",
    "        up1 = torch.cat([up1, skip_connections[2]], dim=1)\n",
    "        up1 = self.conv1(up1)\n",
    "\n",
    "        up2 = self.upconv2(up1)\n",
    "        up2 = torch.cat([up2, skip_connections[1]], dim=1)\n",
    "        up2 = self.conv2(up2)\n",
    "\n",
    "        up3 = self.upconv3(up2)\n",
    "        up3 = torch.cat([up3, skip_connections[0]], dim=1)\n",
    "        up3 = self.conv3(up3)\n",
    "\n",
    "        output = torch.sigmoid(self.output_conv(up3))\n",
    "        return {\"recontruction\":output, \"encoded_image\":encoder_output['encoded_image']}"
   ]
  },
  {
   "cell_type": "markdown",
   "metadata": {},
   "source": [
    "### 3.4 Autoencoder"
   ]
  },
  {
   "cell_type": "code",
   "execution_count": 68,
   "metadata": {},
   "outputs": [],
   "source": [
    "class Autoencoder(nn.Module):\n",
    "    def __init__(self, encoder, decoder):\n",
    "        super().__init__()\n",
    "        \n",
    "        self.encoder = encoder\n",
    "        self.encoder.to(device)\n",
    "        \n",
    "        self.decoder = decoder\n",
    "        self.decoder.to(device)\n",
    "        \n",
    "    def forward(self, x):\n",
    "        encoded = self.encoder(x)\n",
    "        decoded = self.decoder(encoded)\n",
    "        return decoded"
   ]
  },
  {
   "cell_type": "markdown",
   "metadata": {},
   "source": [
    "### 3.5 Classifier"
   ]
  },
  {
   "cell_type": "code",
   "execution_count": 69,
   "metadata": {},
   "outputs": [],
   "source": [
    "class Classifier(nn.Module):\n",
    "    def __init__(self, num_classes, encoder):\n",
    "        super().__init__()\n",
    "        self.encoder = encoder\n",
    "        self.global_pool = nn.AdaptiveAvgPool2d((1, 1))\n",
    "        \n",
    "        # Define classifier with explicit num_classes output\n",
    "        self.classifier = nn.Sequential(\n",
    "            nn.Flatten(),  # Will flatten 512x1x1 to 512\n",
    "            nn.Linear(512, 256),\n",
    "            nn.ReLU(),\n",
    "            nn.Dropout(0.3),\n",
    "            nn.Linear(256, num_classes)  # This should now correctly output num_classes\n",
    "        )\n",
    "        \n",
    "    def forward(self, x):\n",
    "        encoder_output = self.encoder(x)\n",
    "        encoded_features = encoder_output['encoded_image']\n",
    "        pooled_features = self.global_pool(encoded_features)\n",
    "        logits = self.classifier(pooled_features)\n",
    "        return logits"
   ]
  },
  {
   "cell_type": "markdown",
   "metadata": {},
   "source": [
    "## 4 Model"
   ]
  },
  {
   "cell_type": "markdown",
   "metadata": {},
   "source": [
    "#### 4.1 Hyperparameter Tuner"
   ]
  },
  {
   "cell_type": "code",
   "execution_count": 70,
   "metadata": {},
   "outputs": [],
   "source": [
    "from utils.training import trainerClass, dataloader\n",
    "from utils.training.checkpoint import ModelCheckpointer\n",
    "\n",
    "@dataclass\n",
    "class HyperparameterTuner:\n",
    "    gc_after_trial: bool\n",
    "    n_jobs: int\n",
    "    n_trials: int\n",
    "    timeout: float | None\n",
    "    tuning_direction: Literal[\"minimize\", \"maximize\"]\n",
    "    train_epochs: int | None\n",
    "    show_progress_bar: bool\n",
    "    study_load_if_exists: bool\n",
    "    study_name: str\n",
    "    study_pruner: optuna.pruners.BasePruner\n",
    "    study_sampler: optuna.samplers.BaseSampler\n",
    "    # study_storage: optuna.storages.BaseStorage\n",
    "    \n",
    "    compute_device: torch.device = torch.device(\"cuda:0\" if torch.cuda.is_available() else \"cpu\")\n",
    "    def objective(self, trial: Trial) -> float:\n",
    "        encoder = Encoder()\n",
    "        trainer = trainerClass.Trainer(autoencoder=Autoencoder(encoder, Decoder()), checkpointer=ModelCheckpointer(save_path=Path(f\"checkpoint/trial_{trial.number}_checkpoint.pt\")),classifier=Classifier(num_class, encoder),training_set=test_dataset, batch_size=3, device=device, patience=7, n_folds=3)\n",
    "        trainer.train(trial=trial, num_epochs=self.train_epochs)\n",
    "\n",
    "        trial.set_user_attr(\"checkpoint_path\", f\"checkpoint/trial_{trial.number}_checkpoint.pt\")\n",
    "        # Free resources\n",
    "        trainer.free()\n",
    "\n",
    "        # Get the best loss achieved\n",
    "        best_loss = min(loss_dict for loss_dict in trainer.fnr_history)\n",
    "\n",
    "        return best_loss\n",
    "    def tune(self) -> Study:\n",
    "        \"\"\"\n",
    "        Execute the hyperparameter optimization study.\n",
    "\n",
    "        Creates or loads an Optuna study and runs the optimization process\n",
    "        according to the configured parameters.\n",
    "\n",
    "        Returns\n",
    "        -------\n",
    "        Study\n",
    "            The completed Optuna study containing trial results and statistics.\n",
    "\n",
    "        Notes\n",
    "        -----\n",
    "        The optimization process can be customized through the class parameters:\n",
    "        - Number of trials and parallel jobs.\n",
    "        - Time limit.\n",
    "        - Progress bar visibility.\n",
    "        - Garbage collection behavior.\n",
    "        - Study persistence and loading.\n",
    "        \"\"\"\n",
    "        study = optuna.create_study(\n",
    "            # storage=self.study_storage,\n",
    "            sampler=self.study_sampler,\n",
    "            pruner=self.study_pruner,\n",
    "            study_name=self.study_name,\n",
    "            direction=self.tuning_direction,\n",
    "            load_if_exists=self.study_load_if_exists,\n",
    "        )\n",
    "\n",
    "        study.optimize(\n",
    "            func=self.objective,\n",
    "            n_trials=self.n_trials,\n",
    "            timeout=self.timeout,\n",
    "            n_jobs=self.n_jobs,\n",
    "            catch=(),\n",
    "            callbacks=(),\n",
    "            gc_after_trial=self.gc_after_trial,\n",
    "            show_progress_bar=self.show_progress_bar,\n",
    "        )\n",
    "\n",
    "        return study"
   ]
  },
  {
   "cell_type": "markdown",
   "metadata": {},
   "source": [
    "### 4.2 Tuner"
   ]
  },
  {
   "cell_type": "code",
   "execution_count": null,
   "metadata": {},
   "outputs": [],
   "source": [
    "tuner = HyperparameterTuner(\n",
    "    gc_after_trial=True,\n",
    "    n_jobs=1,\n",
    "    n_trials=50,\n",
    "    timeout=None,\n",
    "    tuning_direction=\"minimize\",\n",
    "    train_epochs=50,\n",
    "    show_progress_bar=True,\n",
    "    study_load_if_exists=True,\n",
    "    study_name=\"backAnalizer\",\n",
    "    study_pruner=pruners.MedianPruner(),\n",
    "    study_sampler=samplers.TPESampler(),\n",
    "\n",
    ")\n",
    "\n",
    "study = tuner.tune()"
   ]
  },
  {
   "cell_type": "code",
   "execution_count": null,
   "metadata": {},
   "outputs": [],
   "source": [
    "print(\n",
    "    f\"Best Trial: Trial {study.best_trial.number}\\n\"\n",
    "    f\"\\tLoss Value: {study.best_trial.value}\\n\"\n",
    ")"
   ]
  },
  {
   "cell_type": "code",
   "execution_count": null,
   "metadata": {},
   "outputs": [],
   "source": [
    "from utils.training.checkpoint import ModelCheckpointer\n",
    "from pathlib import Path\n",
    "\n",
    "checkpoint = (\n",
    "    ModelCheckpointer\n",
    "        .load_best_checkpoint(\n",
    "            Path(\n",
    "                study\n",
    "                    .best_trial\n",
    "                    .user_attrs[\"checkpoint_path\"]\n",
    "            )\n",
    "        )\n",
    ")"
   ]
  },
  {
   "cell_type": "code",
   "execution_count": null,
   "metadata": {},
   "outputs": [],
   "source": [
    "bestModelCheckPoint = ModelCheckpointer(save_path=Path(f\"checkpoint/best_model.pt\"))\n",
    "bestModelCheckPoint.save_best(checkpoint)"
   ]
  }
 ],
 "metadata": {
  "kernelspec": {
   "display_name": "ia",
   "language": "python",
   "name": "python3"
  },
  "language_info": {
   "codemirror_mode": {
    "name": "ipython",
    "version": 3
   },
   "file_extension": ".py",
   "mimetype": "text/x-python",
   "name": "python",
   "nbconvert_exporter": "python",
   "pygments_lexer": "ipython3",
   "version": "3.11.9"
  }
 },
 "nbformat": 4,
 "nbformat_minor": 2
}
